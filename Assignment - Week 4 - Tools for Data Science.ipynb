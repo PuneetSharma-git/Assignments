{
 "cells": [
  {
   "cell_type": "markdown",
   "id": "d02b5c6c",
   "metadata": {},
   "source": [
    "# My Jupyter Notebook"
   ]
  },
  {
   "cell_type": "markdown",
   "id": "ee54a505",
   "metadata": {},
   "source": [
    "__Puneet Sharma__<br>\n",
    "Student\n"
   ]
  },
  {
   "cell_type": "markdown",
   "id": "4716d9ff",
   "metadata": {},
   "source": [
    "_I am interested in data science to learn advanced approaches to analyze and visualize data_"
   ]
  },
  {
   "cell_type": "markdown",
   "id": "2a22329a",
   "metadata": {},
   "source": [
    "### This code reads the 'subtitle.txt' file that can be downloaded from the lectures in the 'Tools for data science' course and writes its contents in to another text file for better readability. If you decide to use it, please make sure to have both the .py/.ipynb file and subtitle.txt file in the same folder or add the path for the subtitle.txt file in the code. "
   ]
  },
  {
   "cell_type": "code",
   "execution_count": 4,
   "id": "2b2ab101",
   "metadata": {},
   "outputs": [],
   "source": [
    "with open ('subtitle.txt', 'r') as rf:\n",
    "    with open ('Machine Learning Models.txt', 'w') as cf:\n",
    "        for line in rf:\n",
    "            line = line.replace('\\n', ' ').replace('. ', '.\\n\\n')\n",
    "            cf.write(line)"
   ]
  },
  {
   "cell_type": "markdown",
   "id": "9c1d85f8",
   "metadata": {},
   "source": [
    "### Three popular data scicnce languages are:\n",
    "\n",
    "***\n",
    "\n",
    "1. Python\n",
    "2. R\n",
    "3. SQL\n",
    "\n",
    "***\n",
    "\n",
    "Formatting for this cell was referenced from the link: \n",
    "__[Link to IBM](https://www.ibm.com/docs/en/watson-studio-local/1.2.3?topic=notebooks-markdown-jupyter-cheatsheet)__\n",
    "\n",
    "__Used three formatting tools:__\n",
    "- horizontal lline\n",
    "- numbered list\n",
    "- hypeerlink"
   ]
  },
  {
   "cell_type": "code",
   "execution_count": null,
   "id": "6c2abbc3",
   "metadata": {},
   "outputs": [],
   "source": []
  }
 ],
 "metadata": {
  "kernelspec": {
   "display_name": "Python 3 (ipykernel)",
   "language": "python",
   "name": "python3"
  },
  "language_info": {
   "codemirror_mode": {
    "name": "ipython",
    "version": 3
   },
   "file_extension": ".py",
   "mimetype": "text/x-python",
   "name": "python",
   "nbconvert_exporter": "python",
   "pygments_lexer": "ipython3",
   "version": "3.9.13"
  }
 },
 "nbformat": 4,
 "nbformat_minor": 5
}
